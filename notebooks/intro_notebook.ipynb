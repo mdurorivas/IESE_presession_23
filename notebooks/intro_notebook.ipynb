{
  "cells": [
    {
      "cell_type": "markdown",
      "metadata": {
        "id": "vbFlO6GyH04C"
      },
      "source": [
        "# Intro to Jupyter Notebooks and Google Colab\n",
        "\n",
        "[![Open In Colab](https://colab.research.google.com/assets/colab-badge.svg)](https://colab.research.google.com/github/unstructured-data/IESE_presession_23/blob/main/notebooks/intro_notebook.ipynb)\n",
        "\n",
        "<br><br>\n",
        "\n",
        "- Advantages and limitations\n",
        "- Navigation panel\n",
        "- Downloading notebooks\n"
      ]
    },
    {
      "cell_type": "code",
      "execution_count": 1,
      "metadata": {
        "id": "2StrajQiPW5q",
        "outputId": "7c465e9e-9011-4e4c-97b6-6cd5628bb77d",
        "colab": {
          "base_uri": "https://localhost:8080/"
        }
      },
      "outputs": [
        {
          "output_type": "execute_result",
          "data": {
            "text/plain": [
              "4"
            ]
          },
          "metadata": {},
          "execution_count": 1
        }
      ],
      "source": [
        "# some python code\n",
        "2+2"
      ]
    },
    {
      "cell_type": "code",
      "execution_count": null,
      "metadata": {
        "id": "bAzxtuu2GfW1"
      },
      "outputs": [],
      "source": [
        "# install python libraries\n",
        "!pip3 install pandas"
      ]
    }
  ],
  "metadata": {
    "colab": {
      "provenance": []
    },
    "kernelspec": {
      "display_name": "Python 3",
      "name": "python3"
    },
    "language_info": {
      "name": "python"
    }
  },
  "nbformat": 4,
  "nbformat_minor": 0
}